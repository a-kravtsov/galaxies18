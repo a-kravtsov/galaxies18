{
 "cells": [
  {
   "cell_type": "markdown",
   "metadata": {
    "deletable": true,
    "editable": true,
    "slideshow": {
     "slide_type": "slide"
    }
   },
   "source": [
    "## Astro 304 \"Galaxies\""
   ]
  },
  {
   "cell_type": "markdown",
   "metadata": {
    "deletable": true,
    "editable": true
   },
   "source": [
    "### initial overdensity profiles of Gaussian peaks\n",
    "\n",
    "### density profile of collapsed halos"
   ]
  },
  {
   "cell_type": "code",
   "execution_count": 1,
   "metadata": {
    "collapsed": false,
    "deletable": true,
    "editable": true,
    "slideshow": {
     "slide_type": "skip"
    }
   },
   "outputs": [],
   "source": [
    "# setup notebook for inline figures\n",
    "%matplotlib inline\n",
    "import numpy as np\n",
    "%load_ext autoreload\n",
    "%autoreload 2\n",
    "\n",
    "# import pyplot and set some parameters to make plots prettier\n",
    "import matplotlib.pyplot as plt\n",
    "from code.plot_utils import plot_pretty\n",
    "plot_pretty()"
   ]
  },
  {
   "cell_type": "markdown",
   "metadata": {
    "deletable": true,
    "editable": true,
    "slideshow": {
     "slide_type": "slide"
    }
   },
   "source": [
    "### Initial density profiles of peaks in Gaussian peaks\n",
    "\n",
    "In this plot, the solid blue line shows the supremum profile computed this way. \n",
    "As we can see, it provides a good match to the actual density profile of the peak of such mass that was used as initial condition for the simulation. \n",
    "\n",
    "<img src=\"http://astro.uchicago.edu/~andrey/classes/a304/fig/dpro_ex.png\" width=\"400\"></img>"
   ]
  },
  {
   "cell_type": "markdown",
   "metadata": {
    "deletable": true,
    "editable": true,
    "slideshow": {
     "slide_type": "slide"
    }
   },
   "source": [
    "### shape of the Gaussian overdensity peak and halo density profile\n",
    "\n",
    "Again consider initial overdensity profile described by a  power law (could be power law *locally* with $\\epsilon=\\epsilon(r)$): \n",
    "\n",
    "$$\n",
    "\\delta_i(\\leq r)= (M_i/M_*)^{-\\epsilon}\\propto r_i^{-3\\epsilon}\\propto r_i^{-\\gamma},\n",
    "$$\n",
    "\n",
    "where I defined $\\gamma=3\\epsilon$ and *comoving* radius, $r_i$. The comoving initial radius\n",
    "is constant in time and is unique for each shell before it collapses and crosses with other shells. \n",
    "\n",
    "According to the spherical collapse model each shell turns around when its linearly extrapolated density contrast is of order unity: \n",
    "\n",
    "$$\\delta_{\\rm ta}=\\delta_i D_+(a_{\\rm ta})\\approx 1\\ \\ \\ i.e., \\delta_i\\propto 1/D_+(a_{\\rm ta}).$$\n",
    "\n",
    "Assuming early stages of the evolution of the universe and $\\Omega_{\\rm m}\\approx 1$ we have $D_+(a)\\propto a$, $a\\propto t^{2/3}$, $a(t_{\\rm ta})\\propto 1/\\delta_i\\propto r_i^{\\gamma}$. \n",
    "\n",
    "The physical (proper) radius of the shell $i$ at turnaround will thus be\n",
    "\n",
    "$$r_{i,\\rm ta}=a(t_{\\rm ta})r_i\\propto r_i^{1+\\gamma}.$$"
   ]
  },
  {
   "cell_type": "markdown",
   "metadata": {
    "deletable": true,
    "editable": true,
    "slideshow": {
     "slide_type": "slide"
    }
   },
   "source": [
    "### Density profile of a collapsing Gaussian peaks\n",
    "\n",
    "We can then write solutions for radius and time for each shell in units of turnaround radius and time of *another* shell $j$ that is just reaching turnaround at time $t=t_{\\rm j, ta}$:\n",
    "$$\n",
    "\\frac{r_i(t)}{r_{\\rm j, ta}}=\\left(\\frac{r_i}{r_{j,\\rm ta}}\\right)^{1+\\gamma}\\frac{1-\\cos\\eta}{2}\n",
    "$$\n",
    "\n",
    "$$\n",
    "\\frac{t}{t_{j,\\rm ta}}=1=\\left(\\frac{r_i}{r_{j,\\rm ta}}\\right)^{3\\gamma/2}\\frac{\\eta-\\sin\\eta}{\\pi}\n",
    "$$\n",
    "\n",
    "Substituting $r_i/r_{j,\\rm ta}$ from the second equation into the first we get:\n",
    "\n",
    "$$\n",
    "\\frac{r_i(t)}{r_{j,\\rm ta}}=\\left(\\frac{\\pi}{\\eta-\\sin\\eta}\\right)^{2(1+\\gamma)/3\\gamma}\\frac{1-\\cos\\eta}{2}\n",
    "$$"
   ]
  },
  {
   "cell_type": "markdown",
   "metadata": {
    "deletable": true,
    "editable": true,
    "slideshow": {
     "slide_type": "slide"
    }
   },
   "source": [
    "Now we have a way to connect $r_i$, $\\eta$, and $r$, and using the mass profile $M(<r_i)\\propto r_i^3$ convert it into the current \n",
    "density profile via Jacobian transformation:\n",
    "\n",
    "$$\\rho(r)\\propto \\frac{d^3\\rho(r_i)}{d^3\\rho(r)}\\propto \\left(\\frac{r_i}{r}\\right)^2\\frac{dr_i}{dr}.$$  \n",
    "\n",
    "For a given $r_i$ we compute $\\eta$, for that $\\eta$ calculate $r$ using the equations above. The solution can be derived in analytic form relative to the background mean density, which for $\\Omega_{\\rm m}=1$ is $\\bar{\\rho}=1/(6\\pi Gt^2)$. For example, for $\\gamma = 3$:\n",
    "\n",
    "$$\n",
    "\\frac{\\rho(r,t)}{\\bar{\\rho}(t)}=\\frac{9}{2}\\frac{(\\eta-\\sin\\eta)^2}{(1-\\cos\\eta)^3}\\left[4-\\frac{9}{2}\\frac{\\sin\\eta(\\eta-\\sin\\eta)}{(1-\\cos\\eta)^2}\\right]^{-1}\n",
    "$$\n",
    "\n",
    "This solution is exact prior to collapse, i.e. before collapsing shell crosses with any other shell inside it. This profile has logarithmic slope, $d\\ln\\rho/d\\ln r\\approx -1.5$ "
   ]
  },
  {
   "cell_type": "markdown",
   "metadata": {
    "deletable": true,
    "editable": true,
    "slideshow": {
     "slide_type": "slide"
    }
   },
   "source": [
    "### Density profile of collapsing peak prior to shell crossing\n",
    "\n",
    "Solid line in the plot below shows the derived profile \n",
    "$$\n",
    "\\frac{\\rho(r,t)}{\\bar{\\rho}(t)}=\\frac{9}{2}\\frac{(\\eta-\\sin\\eta)^2}{(1-\\cos\\eta)^3}\\left[4-\\frac{9}{2}\\frac{\\sin\\eta(\\eta-\\sin\\eta)}{(1-\\cos\\eta)^2}\\right]^{-1} - 1\n",
    "$$\n",
    "\n",
    "This solution is exact prior to collapse, i.e. before collapsing shell crosses with any other shell inside it. This profile has logarithmic slope, $d\\ln\\rho/d\\ln r\\approx -1.5$, $\\rho\\propto r^{-1.5}$ is shown by the dashed line.  \n",
    "\n",
    "<img src=\"http://astro.uchicago.edu/~andrey/classes/a304/fig/dpro_before_crossing.png\" width=\"500\" height=\"500\"></img>"
   ]
  },
  {
   "cell_type": "markdown",
   "metadata": {
    "deletable": true,
    "editable": true,
    "slideshow": {
     "slide_type": "slide"
    }
   },
   "source": [
    "### shape of the Gaussian overdensity peak and halo density profile\n",
    "\n",
    "\n",
    "$$\n",
    "\\delta_i(\\leq r)= (M_i/M_*)^{-\\epsilon}\\propto r^{-3\\epsilon}\\propto r^{-\\gamma},\n",
    "$$\n",
    "\n",
    "After collapse and shell crossing, the evolution is more complicated because mass within the shell is not constant. One needs to solve equations of motion of each shell to know their radial distribution and $M(r)$ within the collapsed region.  However, we can gain insight via a simplified model that captures the right trends qualitatively. \n",
    "\n",
    "Given that the turnaround radius of each shell is $r_{\\rm ta}\\propto r_i/\\delta_i\\propto r_i^{1+\\gamma}$, we can connect the initial density profile $\\rho(r_i)$ to the final density profile  via $r\\propto r_{\\rm ta}\\propto r_i^{1+\\gamma}$ and using again \n",
    "\n",
    "$$\\rho(r)\\propto \\frac{d^3\\rho(r_i)}{d^3\\rho(r)}\\propto \\left(\\frac{r_i}{r}\\right)^2\\frac{dr_i}{dr}\\propto r^{-2+3/(1+\\gamma)-1}\\propto r^{-3\\gamma/(1+\\gamma)}.$$  \n",
    "\n",
    "This *indicates a tight connection between the shape of the initial density profile of the peak and its density profile after collapse.*\n",
    "\n",
    "Shallower initial profile (smaller $\\gamma$) will translate into shallower final profile, i.e. smaller $\\tilde{\\gamma}=3\\gamma/(1+\\gamma)$, and vice versa. "
   ]
  },
  {
   "cell_type": "markdown",
   "metadata": {
    "deletable": true,
    "editable": true,
    "slideshow": {
     "slide_type": "slide"
    }
   },
   "source": [
    "### shape of the Gaussian overdensity peak and halo density profile\n",
    "\n",
    "$$\\rho(r)\\propto \\frac{d^3\\rho(r_i)}{d^3\\rho(r)}\\propto \\left(\\frac{r_i}{r}\\right)^2\\frac{dr_i}{dr}\\propto r^{-2+3/(1+\\gamma)-1}\\propto r^{-3\\gamma/(1+\\gamma)}.$$  \n",
    "\n",
    "Shallower initial profile (smaller $\\gamma$) will translate into shallower final profile, i.e. smaller $\\tilde{\\gamma}=-3\\gamma/(1+\\gamma)$, and vice versa. \n",
    "\n",
    "For example, $\\gamma=0$ gives $\\tilde{\\gamma}=0$, while $\\gamma=3$ gives $\\tilde{\\gamma}=-9/4=-2.25$. For $\\gamma\\rightarrow\\infty$, $\\tilde{\\gamma}\\rightarrow-3$. \n",
    "\n",
    "Profiles of collapsed halos measured in cosmological simulations (example is shown by the solid dark line in the right plot) show 2 regimes: infall, well described by the exact analytic solution (power law line in the right plot) and inner profiles within the region where shells cross, with slowly changing logarithmic slope. The latter has characteristic form reflecting the shape of the initial peak, and, partly dynamical processes during halo collapse.\n",
    "\n",
    "<table><tr><td>\n",
    "<img src=\"http://astro.uchicago.edu/~andrey/classes/a304/fig/dpro_dalal10.png\" width=\"500\" height=\"500\"></img></td>\n",
    "<td>\n",
    "<img src=\"http://astro.uchicago.edu/~andrey/classes/a304/fig/dpro_full.png\" width=\"500\" height=\"500\"></img></td></tr></table>"
   ]
  },
  {
   "cell_type": "markdown",
   "metadata": {
    "deletable": true,
    "editable": true,
    "slideshow": {
     "slide_type": "slide"
    }
   },
   "source": [
    "### shape of the Gaussian overdensity peak and halo density profile\n",
    "\n",
    "\n",
    "Predicted by peak collapse \n",
    "$$\\rho(r)\\propto  r^{-3\\gamma/(1+\\gamma)}\\propto r^{-\\tilde{\\gamma}}.$$  \n",
    "\n",
    "Shallower initial profile (smaller $\\gamma$) will translate into shallower final profile, i.e. smaller $\\tilde{\\gamma}=-3\\gamma/(1+\\gamma)$, and vice versa. \n",
    "\n",
    "The inner profile can be described pretty accurately by the analytic Navarro, Frenk & White (1997) form (NFW). The NFW profile has the form\n",
    "\n",
    "$$\n",
    "\\rho_{\\rm NFW}(r)=\\frac{4\\rho_s}{x(1+x)^2};\\ \\ \\ x\\equiv r/r_s;\\ \\ \\ \\frac{d\\ln \\rho}{d\\ln r}=-\\frac{1+2x}{1+x},\n",
    "$$\n",
    "where $r_s$ is the scale-radius at which the logarithmic slope is $-2$. \n"
   ]
  },
  {
   "cell_type": "markdown",
   "metadata": {
    "deletable": true,
    "editable": true,
    "slideshow": {
     "slide_type": "slide"
    }
   },
   "source": [
    "### observed distribution of galaxies around centers of galaxy clusters \n",
    "\n",
    "\n",
    "Upper panel shows surface density distribution of galaxies around centers of galaxy clusters, as well as distributions of red and blue galaxies separately (from <a href=\"https://arxiv.org/abs/1702.01722\">Baxter et al. 2017</a>). The bottom panel shows the corresponding inferred slope of the 3D density profile of number density of galaxies\n",
    "\n",
    "<img src=\"http://astro.uchicago.edu/~andrey/classes/a304/fig/dpro_galaxies_baxter_etal17.png\" width=\"500\" align=\"center\"></img>\n"
   ]
  },
  {
   "cell_type": "code",
   "execution_count": 5,
   "metadata": {
    "collapsed": false,
    "deletable": true,
    "editable": true,
    "slideshow": {
     "slide_type": "skip"
    }
   },
   "outputs": [
    {
     "name": "stderr",
     "output_type": "stream",
     "text": [
      "C:\\Users\\h2_sf\\Canopy2\\User\\lib\\site-packages\\ipykernel\\__main__.py:6: RuntimeWarning: divide by zero encountered in divide\n",
      "C:\\Users\\h2_sf\\Canopy2\\User\\lib\\site-packages\\ipykernel\\__main__.py:6: RuntimeWarning: invalid value encountered in multiply\n",
      "C:\\Users\\h2_sf\\Canopy2\\User\\lib\\site-packages\\ipykernel\\__main__.py:8: RuntimeWarning: invalid value encountered in divide\n",
      "C:\\Users\\h2_sf\\Canopy2\\User\\lib\\site-packages\\ipykernel\\__main__.py:10: RuntimeWarning: invalid value encountered in power\n"
     ]
    },
    {
     "data": {
      "image/png": "[encoded data removed]",
      "text/plain": [
       "<matplotlib.figure.Figure at 0xbea4b70>"
      ]
     },
     "metadata": {},
     "output_type": "display_data"
    }
   ],
   "source": [
    "from colossus.cosmology import cosmology\n",
    "\n",
    "eta = np.arange(0.,2.0*np.pi,0.01)\n",
    "\n",
    "# outer over density profile before shell crossing\n",
    "rrta = 0.5*(1.-np.cos(eta))*(np.pi/(eta-np.sin(eta)))**(8./9.)\n",
    "dpro = np.zeros_like(rrta)\n",
    "dpro = 4.5*(eta-np.sin(eta))**2/(1.-np.cos(eta))**3/(4.0-4.5*(np.sin(eta)*(eta-np.sin(eta)))/(1.-np.cos(eta))**2) - 1.\n",
    "\n",
    "dpl = dpro[-50]*(rrta/rrta[-50])**(-1.5)\n",
    "#4.5*(eta-np.sin(eta))**2/(1.-np.cos(eta))**3\n",
    "\n",
    "fig = plt.figure(figsize=(3.,3.))\n",
    "plt.xlabel(r'$r$')\n",
    "plt.ylabel(r'$\\rho(r)/\\bar{\\rho}-1$')\n",
    "plt.xlim(1.e-2, 30.); plt.ylim(1.e-2,1.e6)\n",
    "plt.xscale('log'); plt.yscale('log')\n",
    "\n",
    "Rta = 19.0\n",
    "plt.plot(rrta*Rta, dpro, '--', c='slateblue', lw=2., label=r'$\\epsilon=3\\ \\rm sec.\\ infall\\ solution$')\n",
    "\n",
    "cosmo = cosmology.setCosmology('WMAP9')\n",
    "M = 1.e15; z=0.\n",
    "\n",
    "from colossus.cosmology import cosmology\n",
    "from colossus.halo import profile_outer\n",
    "from colossus.halo import profile_dk14\n",
    "from colossus.halo import profile_base\n",
    "def get_halo_profile():\n",
    "    # Properties of the test halo\n",
    "    M = 1E15; c = 3.0; mdef = 'vir'; z = 0.0\n",
    "    # Initialize profiles; create an outer power-law term with a pivot at 1 Mpc/h\n",
    "    outer_term = profile_outer.OuterTermMeanDensity(z = z)\n",
    "\n",
    "    # Radii and reshifts where to test\n",
    "    r_test = np.arange(10.,30000.,0.1)\n",
    "\n",
    "    # Analytical DK14 profile\n",
    "    pro = profile_dk14.getDK14ProfileWithOuterTerms(M = M, c = c, z = z,  mdef = mdef)\n",
    "    dpro = pro.density(r_test)\n",
    "    dpro = dpro/(0.3*2.77e2) - 1.\n",
    "    Mexp = int(np.log10(M)); Mman = M/10.**Mexp\n",
    "    plt.plot(r_test/1.e3,dpro,  c='darkslateblue', lw=2.0, label=r'${\\rm fast\\ accreting\\ \\Lambda CDM\\ halos}$') #\\ M_{\\rm vir}=%.1f\\times 10^{%d}\\, h^{-1} M_{\\odot}$'%(Mman, Mexp))\n",
    "    return\n",
    "\n",
    "get_halo_profile()\n",
    "\n",
    "#plt.plot(rrta*Rta, dpl, '--', c='lavender', lw=2., label=r'$\\delta\\propto r^{-1.5}$')\n",
    "plt.legend(frameon=False, loc='lower left')\n",
    "plt.savefig('fig/dpro_full.png', bbox_inches='tight')\n",
    "plt.show()"
   ]
  },
  {
   "cell_type": "code",
   "execution_count": null,
   "metadata": {
    "collapsed": true,
    "deletable": true,
    "editable": true
   },
   "outputs": [],
   "source": []
  }
 ],
 "metadata": {
  "celltoolbar": "Slideshow",
  "kernelspec": {
   "display_name": "Python 3",
   "language": "python",
   "name": "python3"
  },
  "language_info": {
   "codemirror_mode": {
    "name": "ipython",
    "version": 3
   },
   "file_extension": ".py",
   "mimetype": "text/x-python",
   "name": "python",
   "nbconvert_exporter": "python",
   "pygments_lexer": "ipython3",
   "version": "3.6.0"
  }
 },
 "nbformat": 4,
 "nbformat_minor": 0
}
