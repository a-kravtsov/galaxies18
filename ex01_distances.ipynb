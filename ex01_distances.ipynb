{
 "cells": [
  {
   "cell_type": "markdown",
   "metadata": {
    "slideshow": {
     "slide_type": "slide"
    }
   },
   "source": [
    "# Astro 304 \"Galaxies\"\n",
    "\n",
    "## Expansion of the universe and distances\n",
    "\n",
    "### Instructor: Andrey Kravtsov\n",
    "\n",
    "#### office: ERC 415; email: andrey@oddjob.uchicago.edu\n",
    "\n",
    "#### github repository: https://github.com/a-kravtsov/a304s18"
   ]
  },
  {
   "cell_type": "markdown",
   "metadata": {
    "slideshow": {
     "slide_type": "skip"
    }
   },
   "source": [
    "You can turn this notebook into a slide show using nbconvert package:\n",
    "\n",
    "jupyter-nbconvert --to slides ex01_distances.ipynb --post serve"
   ]
  },
  {
   "cell_type": "markdown",
   "metadata": {
    "slideshow": {
     "slide_type": "skip"
    }
   },
   "source": [
    "### Practical info on python and required packages.\n",
    "\n",
    "The experiments below use python (within IPython notebook environment), which will be used throughout this class. You should have one of the most commonly used python distributions - <a href=\"https://www.enthought.com/products/canopy/\">Enthought Canopy</a> or <a href=\"https://www.continuum.io/downloads\">Anaconda</a> -  installed on your laptop. Both are free for academic users. Don't be confused at Enthought site: you can request a free Enthought academic license <a href=\"https://www.enthought.com/academic-subscriptions/\">here</a>, which will allow you to get distribution with many add-ons and libraries, such as their proprietory 3d visualization library <tt>Mayavi</tt>. Both Enthought and Anaconda will provide similar capabilities, although the way you interact with packages is somewhat different. Anaconda will come with most packages you need pre-installed, while in Enthought you will need to install some additional packages (which is easy). \n",
    "\n",
    "In a given python distro, you can launch Jupyter notebook by loading a notebook file or starting a new notebook using IDE editor (specific to each distro) or via command line: <tt>ipython notebook notebook_name.ipynb</tt>, which will open the notebook in a browser where it can be edited and executed.  \n",
    "\n",
    "To run examples presented here, you will need to install in addition to python (with standard libraries: matplotlib, numpy, scipy, etc. that come standard with each distribution), the following packages: "
   ]
  },
  {
   "cell_type": "markdown",
   "metadata": {
    "slideshow": {
     "slide_type": "skip"
    }
   },
   "source": [
    "### Required python packages\n",
    "\n",
    "<tt>pyfits</tt> - package for reading FITS files. The FITS file with the SDSS data that is used below is available here. \n",
    "\n",
    "<a href=\"http://www.astropy.org/\"><tt>astropy</tt></a> - some astropy I/O routines are used by some of the code. "
   ]
  },
  {
   "cell_type": "markdown",
   "metadata": {
    "slideshow": {
     "slide_type": "skip"
    }
   },
   "source": [
    "<a href=\"https://bitbucket.org/bdiemer/colossus/overview\"><tt>colossus</tt></a> - Benedikt Diemer's  python package containing useful routines for computing various cosmological quantities (distances, variances, power spectra, halo profiles, etc.) that we will be using throughout this course)"
   ]
  },
  {
   "cell_type": "markdown",
   "metadata": {
    "slideshow": {
     "slide_type": "skip"
    }
   },
   "source": [
    "<tt><a href=\"http://scikit-learn.org/stable/\">scikit-learn</a></tt> - python package containing various useful machine learning routines, which we will be using from time to time. The routines are also used by the AstroML package."
   ]
  },
  {
   "cell_type": "markdown",
   "metadata": {
    "slideshow": {
     "slide_type": "skip"
    }
   },
   "source": [
    "<tt><a href=\"https://pypi.python.org/pypi/astroML/\">AstroML</a></tt> - this library was developed to support the book <a href=\"http://press.princeton.edu/titles/10159.html\">''Statistics, Data Mining, and Machine Learning in Astronomy''</a> by Ivezic et al. The book itself is not needed for this course, although I will draw on it in parts of the course. It is very good though and I highly recommend to get and study it. \n",
    "\n",
    "We may also need other packages that will be introduced during the course. "
   ]
  },
  {
   "cell_type": "markdown",
   "metadata": {
    "slideshow": {
     "slide_type": "skip"
    }
   },
   "source": [
    "### Preliminaries: set up plotting parameters"
   ]
  },
  {
   "cell_type": "code",
   "execution_count": 6,
   "metadata": {
    "collapsed": false,
    "slideshow": {
     "slide_type": "skip"
    }
   },
   "outputs": [
    {
     "name": "stdout",
     "output_type": "stream",
     "text": [
      "The autoreload extension is already loaded. To reload it, use:\n",
      "  %reload_ext autoreload\n"
     ]
    }
   ],
   "source": [
    "import numpy as np\n",
    "\n",
    "# allow automatic reload of imported codes, if they are modified\n",
    "%load_ext autoreload\n",
    "%autoreload 2\n",
    "\n",
    "# setup notebook for inline figures\n",
    "%matplotlib inline\n",
    "import matplotlib.pyplot as plt\n",
    "\n",
    "from code.plot_utils import plot_pretty\n",
    "plot_pretty()"
   ]
  },
  {
   "cell_type": "markdown",
   "metadata": {
    "slideshow": {
     "slide_type": "slide"
    }
   },
   "source": [
    "### Expansion of the universe\n",
    "\n",
    "Solution of the Einstein's equations of general relativity in the Friedmann-Robertson-Walker (FRW) metric (homogeneous, isotropic space) gives the Friedmann equations for the expansion factor, defined as the distance between two freely expanding points and normalized to be unity at the current time. \n",
    "\n",
    "$$\n",
    "\\frac{\\ddot{a}}{a}=-\\frac{4\\pi G}{3}\\,(\\rho+3p) +\\frac{\\Lambda}{3},\n",
    "$$\n",
    "\n",
    "$$\n",
    "\\left(\\frac{\\dot{a}}{a}\\right)\\equiv H(a)^2=\\frac{8\\pi G\\rho}{3} - \\frac{k}{a^2} + \\frac{\\Lambda}{3},\n",
    "$$\n",
    "\n",
    "where $H(a)$ is the Hubble expansion rate, equal to $H_0$ at $z=0$, $k$ is space curvature ($k = 0$ corresponds to a spatially flat, Euclidean universe, $k > 0$ to space with positive\n",
    "curvature, and $k < 0$ to space with negative curvature, such as saddle). $\\rho$ is the total energy density of the universe due to matter, radiation, and dark energy, and $p$ is the total pressure equal to the sum of pressures of each component. \n",
    "\n",
    "Here $\\Lambda$ is the cosmological constant that can be interpreted as the vacuum energy density $\\Lambda = 8\\pi G\\rho_{\\Lambda}=-8\\pi G p_{\\Lambda}$, i.e. equation of state of the vacuum energy is $p_{\\Lambda}=-\\rho_{\\Lambda}.$"
   ]
  },
  {
   "cell_type": "markdown",
   "metadata": {
    "slideshow": {
     "slide_type": "slide"
    }
   },
   "source": [
    "The equations above are often recast with densities in units of the critical density of the universe\n",
    "\n",
    "$$\n",
    "\\rho_{\\rm crit}=\\frac{3H^2(a)}{8\\pi G};\\ \\ \\ \\Omega_{\\rm m0}=\\frac{\\rho_{m}(z=0)}{\\rho_{\\rm crit}};\\ \\ \\ \\Omega_\\Lambda=\\frac{\\rho_\\Lambda}{\\rho_{\\rm crit}}.\n",
    "$$"
   ]
  },
  {
   "cell_type": "markdown",
   "metadata": {
    "slideshow": {
     "slide_type": "slide"
    }
   },
   "source": [
    "### Distance - redshift relation\n",
    "\n",
    "When we observe an object with spectrum red-shifted by a cosmological redshift $z$, this redshift was accumulated during the time light travelled to us after it was emitted by the object. The emitted photons had to play catch up: in addition to covering the initial *physical* distance between us and the object  at the time light was emitted, the photons had to travel additional distance due to expansion of the universe between emission and observation. "
   ]
  },
  {
   "cell_type": "markdown",
   "metadata": {
    "slideshow": {
     "slide_type": "slide"
    }
   },
   "source": [
    "The redshift of the photons during this travel was accumulated via a sequence of small redshifts $dz=H(z)/c\\delta d$, where $H(z)=\\dot{a}/a$ and $a=1/(1+z)$ is the expansion factor normalized to unity at $z=0$. \n",
    "\n",
    "Thus, the total distance traveled by photons to accumulate redshift $z=\\int_0^z dz$ is\n",
    "\n",
    "$$\n",
    "d_{\\rm c}=\\int\\limits_0^z \\delta d=\\frac{c}{H_0}\\int\\limits_0^z\\frac{dz^\\prime}{E(z^\\prime)}, \n",
    "$$\n",
    "\n",
    "where $E(z)=H(z)/H_0$ is the dimensionless Hubble function:\n",
    "\n",
    "$$\n",
    "E(z)\\equiv H(z)/H_0=\\sqrt{\\Omega_{\\rm m,0}\\,(1+z)^3+\\Omega_k\\,(1+z)^2+\\Omega_{\\Lambda,0}}\n",
    "$$\n",
    "\n",
    "The ratio $c/H_0$ is often denoted as $D_{\\rm H}$ -- the Hubble distance:\n",
    "\n",
    "$$\n",
    "D_{\\rm H}\\equiv\\frac{c}{H_0}\n",
    "= 3000\\,h^{-1}~{\\rm Mpc}= 9.26\\times10^{27}\\,h^{-1}~{\\rm cm}.\n",
    "$$"
   ]
  },
  {
   "cell_type": "markdown",
   "metadata": {
    "slideshow": {
     "slide_type": "slide"
    }
   },
   "source": [
    "### Physical vs comoving distance\n",
    "\n",
    "In cosmology, the actual physical separation between two objects at a given redshift is called  *proper* or *physical* distance, while distance between these objects at $z=0$, assuming they were moving only with the Hubble expansion flow, is called *comoving* distance. \n",
    "\n",
    "Distance $d_{\\rm c}$, as defined above, is clearly the distance between observed object and us today ($z=0$) along the line-of-sight to the object because it computes the distance travelled by photon between an object and observer. Thus, $d_{\\rm c}$ is called the *line-of-sight comoving distance.* It is often also denoted by $\\chi$ in cosmology textbooks.  \n",
    "\n",
    "Photon's wavelength is increased (redshifted) by a factor $1+z$ between emission and arrival. This means that distances between all freely expanding objects in the universe increased by $1+z$, so relation between physical and comoving distances is given by\n",
    "\n",
    "$$d_{\\rm com} = d_{\\rm phys}\\, (1+z).$$"
   ]
  },
  {
   "cell_type": "markdown",
   "metadata": {
    "slideshow": {
     "slide_type": "slide"
    }
   },
   "source": [
    "### Angular diameter distance\n",
    "\n",
    "In astronomy we often want to evaluate physical size of an object or of a region that has redshift $z$ and subtends an angle on the sky $\\theta$. \n",
    "\n",
    "The *angular diameter distance* $d_{\\rm A}$ is defined as the\n",
    "ratio of an object's *physical* transverse size, $s$, to its angular size $\\theta$ (in\n",
    "radians): $s\\equiv \\theta\\, d_{\\rm A}$, where we assume small-angle regime. By definition, *we should use the angular diameter distance $d_{\\rm A}$ whenever we need to compute size of a region from its apparent angular size.*"
   ]
  },
  {
   "cell_type": "markdown",
   "metadata": {
    "slideshow": {
     "slide_type": "slide"
    }
   },
   "source": [
    "How does $d_{\\rm A}$ relate to the line of sight comoving distance introduced above?\n",
    "It's easiest and conceptually clearest to work this out in the case of geometrically flat cosmological models ($\\Omega_{\\rm k}=0$), when usual Eucledian geometry applies.\n",
    "\n",
    "Let us consider 3 photons emitted at the same time from the center of the region, and from the distances $\\pm s/2$ from the center. As these photons travel towards us, the distance between them grows due to expansion of the universe, so that by the time they are observed by us the distance between off-center photons appears to be $s/a$, while the central photon travelled distance $d_{\\rm c}$ to us, as discussed above. Thus, the angle subtended by the emitting region will be \n",
    "\n",
    "$$\\theta=\\frac{s}{a d_{\\rm c}}\\equiv \\frac{s}{d_{\\rm A}}$$, where \n",
    "\n",
    "$$d_{\\rm A}=ad_{\\rm c}=d_{\\rm c}/(1+z)$$\n",
    "\n",
    "is an effective distance for which the usual small-angle formula applies. "
   ]
  },
  {
   "cell_type": "markdown",
   "metadata": {
    "slideshow": {
     "slide_type": "slide"
    }
   },
   "source": [
    "In the case of non-flat cosmologies, relation is more complicated because space is curved, so we cannot use simple Eucledian expression relating angle and distance. In the general case, the angular diameter distance is given by: \n",
    "\n",
    "$$\n",
    "d_{\\rm A} = \\frac{d_{\\rm M}}{1+z}, \n",
    "$$\n",
    "where \n",
    "$$\n",
    "d_{\\rm M} = \\left\\{\n",
    "\\begin{array}{ll}\n",
    "D_{\\rm H}\\,\\frac{1}{\\sqrt{\\Omega_k}}\\,\\sinh\\left[\\sqrt{\\Omega_k}\\,d_{\\rm c}/D_{\\rm H}\\right] & {\\rm for}~\\Omega_k>0 \\\\\n",
    "d_{\\rm c} & {\\rm for}~\\Omega_k=0 \\\\\n",
    "D_{\\rm H}\\,\\frac{1}{\\sqrt{|\\Omega_k|}}\\,\\sin\\left[\\sqrt{|\\Omega_k|}\\,d_{\\rm c}/D_{\\rm H}\\right] & {\\rm for}~\\Omega_k<0\n",
    "\\end{array}\n",
    "\\right.\n",
    "$$"
   ]
  },
  {
   "cell_type": "markdown",
   "metadata": {
    "slideshow": {
     "slide_type": "slide"
    }
   },
   "source": [
    "### Luminosity distance\n",
    "\n",
    "Another commonly encountered situation is when we need to estimate intrinsic luminosity of an object, $L$, given its observed flux, $f$. Luminosity is energy emitted per unit time, while flux is radiation energy received by a detector per unit area per unit time. \n",
    "\n",
    "In the non-expanding space, these are related by the distance as $L=4\\pi d^2 f$. In the expanding space, expansion affects the rate at which photons are received and the photon energy via redshift. \n",
    "The *luminosity distance* $d_{\\rm L}$ is defined so that $L=4\\pi d^2_{\\rm L} f$ in the expanding universe. By definition, *we should use the luminosity distance $d_{\\rm L}$ whenever we need to compute intrinsic luminosity of an object from its observed flux.*"
   ]
  },
  {
   "cell_type": "markdown",
   "metadata": {
    "slideshow": {
     "slide_type": "slide"
    }
   },
   "source": [
    "For simplicity, we will consider luminosity of photons of a given wavelength $\\lambda$; luminosity of photons of other waveleghts can be treated in the same way. \n",
    "\n",
    "Distance between two photons emitted at times separated by $\\Delta t_{\\rm e}$ will initially be $c\\Delta t_{\\rm e}$, but will grow as the universe expands by $a$ by the time the photons are observed. Thus, the photons will be received with larger time interval, $\\Delta t_{\\rm o}=\\Delta t_{\\rm e}/a$, i.e. their flux is reduced by a factor $a$. In addition, the wavelength of the photons, and thus their energy, decreases as they propagate to us by $a$. Thus, the flux through the sphere of radius $d_{\\rm c}$ -- the distance photons travelled to us - is reduced by $a^2$ compared to no expansion case: \n",
    "\n",
    "$$f=\\frac{La^2}{4\\pi\\,d_{\\rm c}^2}\\equiv \\frac{L}{4\\pi\\,d_{\\rm L}^2},$$ \n",
    "\n",
    "where \n",
    "\n",
    "$$d_{\\rm L}=\\frac{d_{\\rm c}}{a}=d_{\\rm c}(1+z)$$ is the *luminosity distance*.\n",
    "\n",
    "For a general (not necessarily flat) cosmogical model it is given by \n",
    "\n",
    "$$\n",
    "d_{\\rm L} = (1+z)\\,d_{\\rm M} = (1+z)^2\\,d_{\\rm A}.\n",
    "$$"
   ]
  },
  {
   "cell_type": "code",
   "execution_count": 7,
   "metadata": {
    "collapsed": true,
    "slideshow": {
     "slide_type": "slide"
    }
   },
   "outputs": [],
   "source": [
    "from code.cosmology import d_l, d_a"
   ]
  },
  {
   "cell_type": "code",
   "execution_count": 8,
   "metadata": {
    "collapsed": false,
    "slideshow": {
     "slide_type": "fragment"
    }
   },
   "outputs": [
    {
     "name": "stdout",
     "output_type": "stream",
     "text": [
      "z = 0.10; Om0 = 0.30; Oml = 0.70:\n",
      "d_L = 3.222e+02 /h Mpc; d_A = 2.663e+02 /h Mpc\n"
     ]
    }
   ],
   "source": [
    "z = 0.1; Om0 = 0.3; OmL = 0.7\n",
    "d_H = 2997.92\n",
    "print(\"z = %.2f; Om0 = %.2f; Oml = %.2f:\"%(z, Om0, OmL))\n",
    "print(\"d_L = %.3e /h Mpc; d_A = %.3e /h Mpc\"%(d_H*d_l(z, Om0, OmL), d_H*d_a(z, Om0, OmL)))\n"
   ]
  },
  {
   "cell_type": "code",
   "execution_count": 9,
   "metadata": {
    "collapsed": true
   },
   "outputs": [],
   "source": [
    "zmin = 0.01; zmax = 10.; nz = 100\n",
    "z = np.linspace(zmin, zmax, nz)\n",
    "\n",
    "dL = np.zeros_like(z); dA = np.zeros_like(z)\n",
    "for i, zd in enumerate(z):\n",
    "    dL[i] = d_l(zd, Om0, OmL)\n",
    "    dA[i] = dL[i]/(1.+zd)**2\n",
    "    \n",
    "# convert to /h Mpc\n",
    "dL *= d_H; dA *= d_H"
   ]
  },
  {
   "cell_type": "markdown",
   "metadata": {},
   "source": [
    "Here is how to use the distance routine in the vectorized way. In this case, for many points the routine computing comoving los distance constructs cubic spline and then uses this spline to compute distances quickly for all points. This will be handy and efficient when we will need to evaluate distances for hundreds of thousands of galaxies in the SDSS. "
   ]
  },
  {
   "cell_type": "code",
   "execution_count": 10,
   "metadata": {
    "collapsed": true
   },
   "outputs": [],
   "source": [
    "# when called with a vector z of size larger than ninter, routine computes distances \n",
    "# using cubic spline constructed over [zmin, zmax] interval of z\n",
    "\n",
    "dLv = d_l(z, Om0, OmL, ninter=20)\n",
    "dAv = dLv/(1.+z)**2\n",
    "    \n",
    "# convert to /h Mpc\n",
    "dLv *= d_H; dAv *= d_H"
   ]
  },
  {
   "cell_type": "code",
   "execution_count": 13,
   "metadata": {
    "collapsed": false
   },
   "outputs": [
    {
     "data": {
      "image/png": "[encoded data removed]",
      "text/plain": [
       "<matplotlib.figure.Figure at 0x7f53ca653eb8>"
      ]
     },
     "metadata": {},
     "output_type": "display_data"
    }
   ],
   "source": [
    "plot_pretty(dpi=225)\n",
    "# now plot the fractional error as a function of step size\n",
    "plt.figure(figsize=(2.5,2.5))\n",
    "plt.xlabel('$z$'); plt.ylabel(r'$d_L, d_A (h^{-1}\\ {\\rm Mpc})$')\n",
    "#plt.xscale('log'); \n",
    "plt.yscale('log')\n",
    "\n",
    "plt.xlim([zmin,zmax]); plt.ylim(10.,1.e5)\n",
    "\n",
    "plt.plot(z, dL, linewidth=1.5, c='m', label='$d_L$')\n",
    "plt.plot(z, dA, linewidth=1.5, ls ='--', c='darkslateblue', label='$d_A$')\n",
    "plt.plot(z, dLv, linewidth=1., c='lavender', label='$d_L\\ \\mathrm{vector}$')\n",
    "plt.plot(z, dA, linewidth=1., ls =':', c='blue', label='$d_A\\ \\mathrm{vector}$')\n",
    "\n",
    "plt.legend(loc='lower right', frameon=False, fontsize=7)\n",
    "#plt.savefig('fig/dLA_z.pdf', bbox_inches='tight')\n",
    "plt.show()"
   ]
  },
  {
   "cell_type": "markdown",
   "metadata": {},
   "source": [
    "Note the peculiar behavior of $d_A$ at high $z$. "
   ]
  }
 ],
 "metadata": {
  "celltoolbar": "Slideshow",
  "kernelspec": {
   "display_name": "Python 2",
   "language": "python",
   "name": "python2"
  },
  "language_info": {
   "codemirror_mode": {
    "name": "ipython",
    "version": 2
   },
   "file_extension": ".py",
   "mimetype": "text/x-python",
   "name": "python",
   "nbconvert_exporter": "python",
   "pygments_lexer": "ipython2",
   "version": "2.7.10"
  }
 },
 "nbformat": 4,
 "nbformat_minor": 1
}
