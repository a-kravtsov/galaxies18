{
 "cells": [
  {
   "cell_type": "markdown",
   "metadata": {
    "deletable": true,
    "editable": true,
    "slideshow": {
     "slide_type": "slide"
    }
   },
   "source": [
    "## Astro 304 \"Galaxies\"\n",
    "\n",
    "### Density perturbations and their evolution in expanding universe\n",
    "\n",
    "<img width=600 align=center src=\"http://www.esa.int/var/esa/storage/images/esa_multimedia/images/2013/03/planck_cmb/12583930-4-eng-GB/Planck_CMB.jpg\"></img>\n",
    "\n",
    "Temperature fluctuations in the CMB, as measured by the <a href=\"http://www.esa.int/Our_Activities/Space_Science/Planck\">Planck</a> satellite. "
   ]
  },
  {
   "cell_type": "markdown",
   "metadata": {
    "deletable": true,
    "editable": true,
    "slideshow": {
     "slide_type": "skip"
    }
   },
   "source": [
    "You can turn this notebook into a slide show using nbconvert package:\n",
    "\n",
    "jupyter-nbconvert --to slides ex06_density_perturbation_evolution.ipynb --post serve\n",
    "\n",
    "For many of the image links to work, you need to be connected to internet. "
   ]
  },
  {
   "cell_type": "code",
   "execution_count": 1,
   "metadata": {
    "collapsed": false,
    "deletable": true,
    "editable": true,
    "slideshow": {
     "slide_type": "skip"
    }
   },
   "outputs": [],
   "source": [
    "# setup notebook for inline figures\n",
    "%matplotlib inline\n",
    "import numpy as np\n",
    "\n",
    "# import pyplot and set some parameters to make plots prettier\n",
    "import matplotlib.pyplot as plt\n",
    "from code.plot_utils import plot_pretty\n",
    "plot_pretty()"
   ]
  },
  {
   "cell_type": "markdown",
   "metadata": {
    "deletable": true,
    "editable": true,
    "slideshow": {
     "slide_type": "slide"
    }
   },
   "source": [
    "Cosmic Microwave Background (CMB) was discovered in 1963-1965 by Arno Penzias and Robert Wilson and reported in a 1965 ApJ <a href=\"http://adsabs.harvard.edu/abs/1965ApJ...142..419P\">paper</a>. However, it took over 25 more years to detect fluctuations in the CMB that correspond to the matter density perturbations that gave rise to structures such as galaxies, galaxy clusters, and cosmic web. \n",
    "\n",
    "Fluctuations in the CMB temperature as a function of position on the sky were finally detected and measured robustly by the <a href=\"\">COBE satellite</a> in 1992, although prior to that indications of fluctuations were found by the <a href=\"https://en.wikipedia.org/wiki/RELIKT-1\">RELIKT mission.</a>\n",
    "\n",
    "<img width=700 align=center src=\"http://astro.uchicago.edu/~andrey/classes/a304/fig/cmb_cobe_map.gif\"></img>"
   ]
  },
  {
   "cell_type": "markdown",
   "metadata": {
    "deletable": true,
    "editable": true,
    "slideshow": {
     "slide_type": "slide"
    }
   },
   "source": [
    "### CMB temperature anisotropies since 1992\n",
    "\n",
    "Were mapped by a combination of ground-based (BOOMERANG, DASI, ACT, SPT, and others)\n",
    "and space (WMAP, Planck) missions with increasing angular resolution and sensitivity.\n",
    "\n",
    "<img width=800 align=center src=\"http://astro.uchicago.edu/~andrey/classes/a304/fig/cmb_cobe_wmap_planck.jpg\"></img>"
   ]
  },
  {
   "cell_type": "markdown",
   "metadata": {
    "deletable": true,
    "editable": true,
    "slideshow": {
     "slide_type": "slide"
    }
   },
   "source": [
    "### Spectrum of the CMB temperature measured by the Planck satellite\n",
    "\n",
    "The plot below shows \n",
    "\n",
    "$$\\Delta_{\\rm T}^2\\equiv \\frac{l(l+1)}{2\\pi}\\, C_l\\,\\langle T\\rangle^2 $$\n",
    "\n",
    "where $\\Delta_{\\rm T}^2$ is in $(\\mu\\rm K)^2$ and $\\langle T\\rangle=2.768\\ \\rm K$. $C_l$ is dimensionless angular power spectrum of temperature anisotropies and is a function of multipole moment $l\\approx 180^\\circ/\\theta$ (and $\\theta$ is angular scale in degrees). \n",
    "\n",
    "<img width=700 align=center src=\"http://astro.uchicago.edu/~andrey/classes/a304/fig/planck_cmb_dT_spectrum.JPG\"></img>"
   ]
  },
  {
   "cell_type": "markdown",
   "metadata": {
    "deletable": true,
    "editable": true,
    "slideshow": {
     "slide_type": "slide"
    }
   },
   "source": [
    "### Relation between CMB temperature fluctuations and baryon density fluctuations\n",
    "\n",
    "Because before recombination radiation and baryons are coupled by Thompson scattering, their fluctuations are related.\n",
    "\n",
    "$$\\frac{\\Delta_{\\rm T}}{\\langle T\\rangle} \\approx \\frac{1}{3}\\,\\frac{\\Delta\\rho_{\\rm bar}}{\\bar{\\rho}_{\\rm bar}}$$\n",
    "\n",
    "where $\\Delta\\rho_{\\rm bar}/\\bar{\\rho}_{\\rm bar}$ is fluctuation amplitude of the *baryon* matter (i.e., normal nuclei, atoms, and electrons) and $\\bar{\\rho}_{\\rm bar}$ is the mean density of baryon matter in the universe. "
   ]
  },
  {
   "cell_type": "code",
   "execution_count": 11,
   "metadata": {
    "collapsed": false,
    "deletable": true,
    "editable": true,
    "slideshow": {
     "slide_type": "skip"
    }
   },
   "outputs": [
    {
     "name": "stdout",
     "output_type": "stream",
     "text": [
      "!!! Romberg warning: !!!\n",
      "!!! maximum of mmax=8 iterations reached, abs(err)=1.317e-06, > required error rtol = 1.000e-10\n",
      "scale = 9.17e-03 h^-1 Mpc; theta = 0.06 degrees\n"
     ]
    }
   ],
   "source": [
    "# let's compute angular scales corresponding to a given physics scale s: theta = s/d_A*(180./pi)\n",
    "\n",
    "from code.cosmology import d_a\n",
    "\n",
    "Om0 = 0.3; OmL = 0.7; \n",
    "d_H = 2997.92 # c/H0 in 1/h Mpc\n",
    "z_cmb = 1090\n",
    "\n",
    "d_ACMB = d_a(z_cmb, Om0, OmL) * d_H # angular distance to CMB in 1/h Mpc\n",
    "\n",
    "scale = 10. / (1.+z_cmb) # comoving in 1/h Mpc -> physical\n",
    "theta = scale / d_ACMB * (180./np.pi) # corresponding angular scale in degrees\n",
    "\n",
    "print(\"scale = %.2e h^-1 Mpc; theta = %.2f degrees\"%(scale,theta))"
   ]
  },
  {
   "cell_type": "code",
   "execution_count": 10,
   "metadata": {
    "collapsed": false,
    "deletable": true,
    "editable": true
   },
   "outputs": [
    {
     "name": "stdout",
     "output_type": "stream",
     "text": [
      "5.28085721573e-06\n"
     ]
    }
   ],
   "source": [
    "print(np.sqrt(200*1.e-12)/2.678)"
   ]
  },
  {
   "cell_type": "markdown",
   "metadata": {
    "deletable": true,
    "editable": true,
    "slideshow": {
     "slide_type": "slide"
    }
   },
   "source": [
    "### The implied amplitude of baryon fluctuations\n",
    "\n",
    "$\\Delta_{\\rm T}^2\\approx 200$. So $\\Delta T/\\langle T\\rangle\\approx \\sqrt{200\\times 10^{-12}}/2.678\\approx 5\\times 10^{-6}$. \n",
    "\n",
    "This means that a typical fluctuation amplitude of baryon fluctuations on these scales is \n",
    "\n",
    "$$\\frac{\\Delta\\rho_{\\rm bar}}{\\bar{\\rho}_{\\rm bar}}\\approx 10^{-5}$$"
   ]
  },
  {
   "cell_type": "markdown",
   "metadata": {
    "deletable": true,
    "editable": true,
    "slideshow": {
     "slide_type": "slide"
    }
   },
   "source": [
    "### Fluctuation amplitude today\n",
    "\n",
    "At the same we saw this in the distribution of SDSS galaxies. What is a typical amplitude of positive and negative fluctuations on say $10h^{-1}$ Mpc scale in this distribution (roughly)?\n",
    "\n",
    "<img width=700 src=\"http://astro.uchicago.edu/~andrey/classes/a304/fig/lss_coma.png\"></img>"
   ]
  },
  {
   "cell_type": "markdown",
   "metadata": {
    "deletable": true,
    "editable": true,
    "slideshow": {
     "slide_type": "slide"
    }
   },
   "source": [
    "### How do such fluctuations evolve in expanding universe?\n",
    "\n",
    "The density within the perturbation will evolve as $\\rho=3M/(4\\pi r^3)$, while the mean density of the universe evolves\n",
    "as $\\bar{\\rho}=\\bar{\\rho}_{\\rm m0} a^{-3}$. Thus, dimensionless density contrast evolves as\n",
    "\n",
    "$$\n",
    "1+\\delta(t)=\\frac{\\rho}{\\bar{\\rho}}=\\frac{3M}{4\\pi\\bar{\\rho}_{\\rm m0}}\\,\\frac{a^3}{r^3}=R^3_{\\rm L}\\frac{a^3}{r^3},\n",
    "$$\n",
    "\n",
    "where $R_{\\rm L}=[3M/(4\\pi\\bar{\\rho}_{\\rm m0})]^{1/3}$ is the *comoving Lagrangian radius* of the perturbation, which is  independent of time. "
   ]
  },
  {
   "cell_type": "markdown",
   "metadata": {
    "deletable": true,
    "editable": true,
    "slideshow": {
     "slide_type": "slide"
    }
   },
   "source": [
    "The initial physical radius of the perturbation is thus: \n",
    "\n",
    "$$r_i=R_{\\rm L}\\, a(t_i)\\,(1+\\delta_i)^{-1/3}.$$\n",
    "\n",
    "Here $a(t_i)=(1+z_i)^{-1}$ is the expansion factor at the initial time $t_i$. \n",
    "\n",
    "The equation above implies that \n",
    "\n",
    "* When there is no perturbation, $\\delta=0$, $r=R_{\\rm L}a(t)$ - i.e., region simply expands with the universe at the average rate.\n",
    "\n",
    "\n",
    "* When fluctuation is negative, $-1<\\delta_i<0$, $r_i>R_{\\rm L}\\, a(t_i)$ - i.e., at $t<t_i$ fluctuation was expanding faster than region of average density of the same mass. \n",
    "\n",
    "\n",
    "* When fluctuation is positive, $\\delta_i>0$, $r_i<R_{\\rm L}a(t_i)$ - i.e., at $t<t_i$ fluctuation was expanding slower than the universe."
   ]
  },
  {
   "cell_type": "markdown",
   "metadata": {
    "deletable": true,
    "editable": true
   },
   "source": [
    "### Evolution and interaction of spherical under-dense regions (\"voids\")\n",
    "\n",
    "This Figure 9.4 from Binney & Tremain's book \"Galactic dynamics\". Evolution of nested under-dense regions is shown in *comoving coordinates* (expansion of the universe is taken out).\n",
    "\n",
    "<img width=500 align=left src=\"http://astro.uchicago.edu/~andrey/classes/a304/fig/bt_fig9_5_void_evolution.PNG\"></img>"
   ]
  },
  {
   "cell_type": "markdown",
   "metadata": {
    "deletable": true,
    "editable": true,
    "slideshow": {
     "slide_type": "slide"
    }
   },
   "source": [
    "### Recall the distribution of galaxies in the vicinity of the Milky Way\n",
    "\n",
    "We live in a sheet that formed at the interface of two \"voids\" in matter distribution...\n",
    "\n",
    "<img width=500 align=left src=\"http://astro.uchicago.edu/~andrey/classes/a304/fig/lsc_3d.PNG\"></img>"
   ]
  },
  {
   "cell_type": "markdown",
   "metadata": {
    "deletable": true,
    "editable": true,
    "slideshow": {
     "slide_type": "slide"
    }
   },
   "source": [
    "### Initial stages of evolution: linear regime\n",
    "\n",
    "We saw that we can write physical radius of a fluctuation at time $t$ as \n",
    "\n",
    "$$r(t)=R_{\\rm L}\\, a(t)\\,(1+\\delta)^{-1/3}.$$\n",
    "\n",
    "where $R_{\\rm L}=[3M/(4\\pi\\bar{\\rho}_{\\rm m0})]^{1/3}$ is the *comoving Lagrangian radius* of the perturbation, which is  independent of time. \n",
    "\n",
    "Let's take 1st and 2nd time derivatives of $r(t)$: \n",
    "\n",
    "$$\\dot{r}=R_{\\rm L}\\left[\\dot{a}\\,(1+\\delta)^{-1/3} - \\frac{a}{3}\\,\\dot{\\delta}\\,(1+\\delta)^{-4/3}\\right]$$\n",
    "\n",
    "$$\\ddot{r}=R_{\\rm L}\\left[\\ddot{a}\\,(1+\\delta)^{-1/3} -\\frac{\\dot{a}}{3}\\frac{\\dot{\\delta}}{(1+\\delta)^{4/3}}- \\frac{a}{3}\\,\\ddot{\\delta}\\,(1+\\delta)^{-4/3}-\\frac{\\dot{a}}{3}\\,\\dot{\\delta}\\,(1+\\delta)^{-4/3}+\\frac{4\\dot{a}}{9}\\,\\dot{\\delta}^2\\,(1+\\delta)^{-7/3}\\right]$$\n",
    "\n",
    "For regime in which $\\delta\\ll 1$, so $1+\\delta\\approx 1$ and we can neglect quadratic terms like $\\dot{\\delta}^2$, we simplify the above equation to "
   ]
  },
  {
   "cell_type": "markdown",
   "metadata": {
    "deletable": true,
    "editable": true,
    "slideshow": {
     "slide_type": "slide"
    }
   },
   "source": [
    "### Initial stages of evolution: linear regime (contd.)\n",
    "\n",
    "\n",
    "$$\\ddot{r}=R_{\\rm L}\\left[\\ddot{a} -\\frac{2}{3}\\,\\dot{a}\\dot{\\delta} -\\frac{a}{3}\\ddot{\\delta}\\right]$$\n",
    "\n",
    "dividing by the expression for $r$, which in this regime is $r\\approx R_{\\rm L}a$: \n",
    "\n",
    "$$\\frac{\\ddot{r}}{r}=\\frac{\\ddot{a}}{a}-\\frac{2}{3}\\,\\frac{\\dot{a}}{a}\\,\\dot{\\delta}-\\frac{\\ddot{\\delta}}{3}$$\n",
    "\n",
    "Then using $\\ddot{r}=-GM/r^2$ we have: \n",
    "\n",
    "$$\\frac{\\ddot{r}}{r}=-\\frac{GM}{r^3}=-\\frac{4\\pi G}{3}\\,\\bar{\\rho}\\,(1+\\delta)=\\frac{\\ddot{a}}{a}-\\frac{2}{3}\\,\\frac{\\dot{a}}{a}\\,\\dot{\\delta}-\\frac{\\ddot{\\delta}}{3}$$\n",
    "\n",
    "For $\\delta=0$, $\\dot{\\delta}=0$ and $\\ddot{\\delta}=0$, so we have Friedman equation for expansion of the universe (region of mean density): \n",
    "\n",
    "$$\\frac{\\ddot{a}}{a} = -\\frac{4\\pi G}{3}\\,\\bar{\\rho}, $$\n",
    "\n",
    "which can be subtracted from the above equation to get the equation of overdensity evolution in the linear regime: \n",
    "\n",
    "$$\\ddot{\\delta}+2\\, H(a)\\dot{\\delta} = 4\\pi G \\bar{\\rho}\\delta,$$\n",
    "\n",
    "where $H(a)\\equiv \\dot{a}/a$ is the Hubble function. If we use $\\Omega_{\\rm m}(t)=\\bar{\\rho}(t)/\\rho_{\\rm crit}(t)$, where $\\rho_{\\rm crit}(t)=3H(t)^2/(8\\pi G)$, we can rewrite above equation in a slightly different form\n",
    "\n",
    "$$\\ddot{\\delta}+2\\, H(a)\\dot{\\delta} -\\frac{3}{2}\\Omega_{\\rm m}(t) H^2(t)\\delta = 0.$$\n",
    "\n",
    "The form of this equation may remind you of equation of a commonly encountered physical system. What is it?"
   ]
  },
  {
   "cell_type": "markdown",
   "metadata": {
    "deletable": true,
    "editable": true,
    "slideshow": {
     "slide_type": "slide"
    }
   },
   "source": [
    "### Solution of the linear equation\n",
    "\n",
    "For $\\Omega_{\\rm m}=1={\\rm const}$, for which $a=(t/t_{\\rm U})^{2/3}$, where $t_{\\rm U}=2/(3H_0)$ is the current ($a=1$) age of universe. These equations combine to give $\\bar{\\rho}=1/(6\\pi Gt^2)$, a solution of the equation is analytic (this can be checked by substitution): \n",
    "\n",
    "$$\\delta(t) = \\delta_{0+}\\,\\left(\\frac{t}{t_U}\\right)^{2/3}=\\delta_{0+}\\, a(t).$$\n",
    "\n",
    "or, more generally, it can be shown (see <a href=\"http://adsabs.harvard.edu/abs/1977MNRAS.179..351H\">Heath 1977</a> or S 4.1.6 on p. 172 in Mo et al. book): \n",
    "\n",
    "$$\\delta(t) = \\delta_{0+}D_+(t) + \\delta_{0-}D_-(t),$$\n",
    "\n",
    "where \n",
    "\n",
    "$$D_-(t)\\propto H(t)$$\n",
    "\n",
    "$$D_+(t)\\propto H(t)\\,\\int\\limits_0^t\\frac{dt^\\prime}{a^2(t^\\prime)H^2(t^\\prime)}\\propto H(z)\\int\\limits_z^\\infty\\frac{(1+z^\\prime)}{E^3(z^\\prime)}\\,dz^\\prime$$\n",
    "\n",
    "For the $\\Omega_{\\rm m}=1,\\ \\Omega_\\Lambda=0$ cosmology \n",
    "$$\\delta_+\\propto t^{2/3}\\propto a,$$\n",
    "and so in the linear regime overdensity increases proportionally to expansion factor.\n",
    "\n",
    "At the same time, $\\delta_-\\propto H(t)\\propto t^{-1}$. Thus, $\\delta_+$ grows with time, while $\\delta_-$ decreases with time. Hence, $D_+$ is called *the growth function.* \n",
    "\n",
    "By late time epochs relevant for structure formation the second term in the above sum thus is small compared to the first. The presence of the two terms tells us that only a fraction $\\delta_{0+}$ of the originally existing fluctuation $\\delta_0$ survives, while another fraction decays due to expansion of the universe. \n"
   ]
  },
  {
   "cell_type": "markdown",
   "metadata": {
    "deletable": true,
    "editable": true,
    "slideshow": {
     "slide_type": "slide"
    }
   },
   "source": [
    "### Growth of linear perturbations in other cosmologies \n",
    "\n",
    "In other cosmologies, solution has the same form\n",
    "\n",
    "$$\\delta(t) = \\delta_{0+}D_+(t) + \\delta_{0-}D_-(t),$$\n",
    "\n",
    "where \n",
    "\n",
    "$$D_-(t)\\propto H(t);\\ \\ \\ \\ D_+(t)\\propto H(t)\\,\\int\\limits_0^t\\frac{dt^\\prime}{a^2(t^\\prime)H^2(t^\\prime)}\\propto H(z)\\int\\limits_z^\\infty\\frac{(1+z^\\prime)}{E^3(z^\\prime)}\\,dz^\\prime$$\n",
    "\n",
    "but the integral in expression for $D_+$ is generally not analytic and needs to be evaluated numerically. It depends on $H(t)$ and dimensionless Hubble function\n",
    "\n",
    "$$E(z)\\equiv \\frac{H(z)}{H_0}=\\sqrt{\\Omega_{\\rm m,0}\\,(1+z)^3+\\Omega_k\\,(1+z)^2+\\Omega_{\\Lambda,0}},$$\n",
    "where $\\Omega_k=1-\\Omega_{\\rm m,0}-\\Omega_\\Lambda$ and so the growth function depends on cosmological parameters through $H(z)$ and $E(z)$.  \n",
    "\n",
    "The exception are \"open geometry\" cosmologies, i.e. $\\Omega_{\\rm m,0}<1$ and $\\Omega_\\Lambda=0$, for which the growth factor can be written in closed form (see eq. 4.74 in the Mo et al. book). \n",
    "\n",
    "It is customary to normalize $D_+(t)$ to unity at the present epoch ($z=0$), so that linear evolution of the growing part of the perturbation can be written as\n",
    "\n",
    "$$\\delta \\equiv \\delta_{0+}\\,D_+(t,\\Omega_{\\rm m},\\Omega_\\Lambda).$$\n",
    "\n",
    "Subscript in $\\delta_{0+}$ emphasizes that only the growting part of the original primordial amplitude of the fluctuations survives to present epoch, while part of it decayed due to the decaying mode of the solution $\\propto D_-(t)$. "
   ]
  },
  {
   "cell_type": "code",
   "execution_count": null,
   "metadata": {
    "collapsed": true,
    "deletable": true,
    "editable": true
   },
   "outputs": [],
   "source": []
  }
 ],
 "metadata": {
  "celltoolbar": "Slideshow",
  "kernelspec": {
   "display_name": "Python 3",
   "language": "python",
   "name": "python3"
  },
  "language_info": {
   "codemirror_mode": {
    "name": "ipython",
    "version": 3
   },
   "file_extension": ".py",
   "mimetype": "text/x-python",
   "name": "python",
   "nbconvert_exporter": "python",
   "pygments_lexer": "ipython3",
   "version": "3.6.0"
  }
 },
 "nbformat": 4,
 "nbformat_minor": 0
}
