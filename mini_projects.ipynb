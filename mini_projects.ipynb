{
 "cells": [
  {
   "cell_type": "markdown",
   "metadata": {
    "deletable": true,
    "editable": true
   },
   "source": [
    "### Astro 304 (Spring 2018) \"Galaxies\""
   ]
  },
  {
   "cell_type": "markdown",
   "metadata": {
    "deletable": true,
    "editable": true
   },
   "source": [
    "### Exploring galaxy evolution and scaling relations\n",
    "\n",
    "### a list of mini-projects\n",
    "\n",
    "Please, pick a mini-project from the list below. The mini-project will consist of reading a couple of papers (or parts of reviews) on a given subject, carrying out a calculation using the galaxy formation model we developed, as well as some observational data that we worked with (or some data that I will supply), and making some conclusions and inferences based on comparison of model and observations. \n",
    "\n",
    "Please prepare a brief (15min) presentation introducing the topic and describing results of your model calculation, comparison with observation(s), and conclusions. "
   ]
  },
  {
   "cell_type": "markdown",
   "metadata": {
    "deletable": true,
    "editable": true
   },
   "source": [
    "### 1. Scaling relations of galaxies.\n",
    "\n",
    "### Model Tully-Fisher and baryonic Tully-Fisher relations. \n",
    "\n",
    "#### Background\n",
    "\n",
    "Observed galaxies exhibit several tight relations between their different observed properties. Such relations are often referred to as *scaling relations* because they describe how one galaxy property \"scales\" as a function of another property. Such tight relations are of paramount importance because they inform us about regularities during galaxy formation and connections between physical processes that affect different properties. \n",
    "\n",
    "One of the most famous scaling relations is the *Tully-Fisher relation* (TFR) between galaxy rotation velocity and its luminosity (<a href=\"http://adsabs.harvard.edu/abs/1977A%26A....54..661T\">Tully & Fisher 1977</a>). A related relation is the *baryonic Tully-Fisher relation* (BTFR) between rotation velocity and \"baryon mass\" (gas+star mass), which was first considered by <a href=\"http://adsabs.harvard.edu/abs/2005ApJ...632..859M\">McGaugh (2005)</a>.\n",
    "This relation is extensively used in a variety of areas, including 1) distance measurements to galaxies, 2) constraints on galaxy formation models, 3) constraints on alternative gravity models, 4) constraints on the mass-to-light ratios and initial mass function of stars in galaxies, etc.\n",
    "\n",
    "#### Mini-project description\n",
    "For galaxy model with all the included processes, construct the BTFR - i.e., the correlation of $M_{\\rm g}+M_*$ and $V_{\\rm 2.2}$, where $V_{\\rm 2.2}$ is the rotation velocity at the $R_{\\rm out}=2.2R_{\\rm d}$. The radius $2.2R_{\\rm d}$ can be computed using Mo et al. 1998 model that is already implemented (with adjustments to fit observed galaxies from HW5). The rotation velocity at $R_{\\rm out}=2.2R_{\\rm d}$ can be computed as a sum of contributions of baryons in the disk and dark matter in a spherical halo (see, e.g., S 11.1.2 in the Mo, van den Bosch & White book):\n",
    "$$V_{c}^2(<R_{\\rm out})=V_{\\rm bar}^2(<R=R_{\\rm out})+V^2_{\\rm dm}(<R=R_{\\rm out}).$$\n",
    "Circular velocity profile of a thin exponential disk in closed form is  (see eq. 11.30 in MvdBW book, although sign is wrong in their expression):\n",
    "$$V^2_{\\rm bar}(<R)= 4\\pi G\\Sigma_0 R_d y^2 [I_0(y)K_0(y)-I_1(y)K_1(y)],$$\n",
    "where $I_n$ and $K_n$ are the modified Bessel functions of the first and second kind, respectively, $R_d$ is the disk scale length,  and $y=R/(2R_d)$. Recall that total mass of the exponential disk is $M_d=2\\pi\\Sigma_0 R_d^2$. Halo circular profile is \n",
    "$$V_c^2(<R)=V_{200}^2\\frac{1}{x}\\frac{\\ln(1+cx)-cx/(1+cx)}{\\ln(1+c)-c/(1+c)},$$\n",
    "where $V_{200}=\\sqrt{GM_{200}/R_{200}}$, $x=r/R_{200}$, and $c=c_{200}=R_{200}/r_s$ is halo concentration.\n",
    "\n",
    "#### Task \n",
    "compare the model TFR (i.e., $M_*-V_{2.2}$ to the best fit relation for SDSS galaxies from the middle of Table 12 of <a href=\"http://adsabs.harvard.edu/abs/2011MNRAS.417.2347R\">Reyes et al. 2011</a> and BTFR to the data in the recent compilation of <a href=\"http://adsabs.harvard.edu/abs/2016arXiv160202757B\">Bradford et al. (2016)</a> (I will provide the data file and example of how to read it and plot BTFR). How well does the model match the observed TFR and BTFR relations? How does the model predictions depend on inclusion of outflows and assumptions about loading factor? \n",
    "\n",
    " "
   ]
  },
  {
   "cell_type": "markdown",
   "metadata": {
    "collapsed": true,
    "deletable": true,
    "editable": true
   },
   "source": [
    "### 2. Metallicity-stellar mass relation and metallicity \"fundamental relation\". \n",
    "\n",
    "#### Background\n",
    "Observed galaxies exhibit a strong correlation between star formation rate, stellar mass, and metallicity, which some astronomers have dubbled \"the fundamental relation\" (see <a href=\"http://adsabs.harvard.edu/abs/2010MNRAS.408.2115M\">Mannucci et al. 2010</a>).  \n",
    "\n",
    "Projection of this relation onto $M_\\star-Z/Z_\\odot$ plane is also frequently considered and reveals that metallicity of galaxy ISM gas or their stars and galaxy stellar mass are correlated. This correlation extends down to the smallest dwarf galaxies known. \n",
    "\n",
    "#### Mini-project description\n",
    "The galaxy model tracks mass of metals produced by stars and so can be used to look at the metallicity-stellar mass relation. Compare evolution $Z/Z_\\odot-M_*$ relations in the models with wind outflows using constant and non-constant mass loading factor. Compare results of a couple of representative models to observed metallicity-stellar mass relation (I will supply the data and script for plotting it). Specifically address the following questions\n",
    "\n",
    "#### Tasks:\n",
    "<b>(a) </b> Can you match the observed $z=0$ correlation with the full model with outflows? What about evolution of $M_*-Z$ relation?  How do results depend on the assumptions about mass loading factor? \n",
    "\n",
    "<b>(b)</b> In the galaxy formation model described in <a href=\"http://adsabs.harvard.edu/abs/2012ApJ...753...16K\">Krumholz & Dekel (2012)</a>, the authors introduce an ingredient summarized in their eq. 22, which crudely models the results of simulations of winds from isolated galaxies by <a href=\"http://adsabs.harvard.edu/abs/1999ApJ...513..142M\">Mac Low & Ferrara (1999)</a>, which showed that winds out of smaller mass galaxies carried more metals with them (i.e., the wind metallicity depends on galaxy mass). Implement this ingredient in the $M_Z$ evolution equation - i.e., eq 23 in KD13 and function <tt>zeta</tt> in the galaxy model class. How does this change the predicted $M_*-Z$ relation?\n",
    "\n",
    "<b>(c)</b> $\\dot{M}_\\star-M_\\star-Z$ \"fundamental metallicity plane\" correlation of galaxies.</b> Examine how galaxies in our full model evolve in the 3D space of these parameters. Discuss possible qualitative explanation for the correlations and the evolution you see. \n",
    "\n",
    "<b>(d)</b> Compare predictions of models with and without winds at $z=0$ to the observed $\\dot{M}_\\star-M_\\star-Z$ correlation of galaxies in the GAMA survey (I will provide the survey data and show you how to plot it). "
   ]
  },
  {
   "cell_type": "markdown",
   "metadata": {
    "collapsed": true,
    "deletable": true,
    "editable": true
   },
   "source": [
    "### 3. Galactic outflows and effective yield.\n",
    "\n",
    "#### Background\n",
    "A useful concept, which emerges from simple chemical evolution models, is the *effective yield*, $y_{\\rm eff}$. It is defined as $y_{\\rm eff}=Z/\\ln(1/f_{\\rm gas})$, where $Z$ is the mass fraction of heavy elements  in the gas and $f_{\\rm gas}\\equiv M_{\\rm gas}/(M_{\\rm gas}+M_*)$ is the gas mass fraction in the system. \n",
    "\n",
    "Briefly, if galaxy was a closed system, the effective yield would be driven to the true heavy element yield of a stellar population, $y_Z$ (<tt>y_Z</tt> in the galaxy model; for a Chabrier IMF it is $y_{\\rm Z}\\approx 0.07$), as the gas metallicity as a function of time in such model can be solved for analytically: $Z(t)=y_Z\\,\\ln(1/f_{\\rm gas})$. Thus, the difference of the ratio $Z_{\\rm gas}/\\ln(1/f_{\\rm gas})$ from the true expected yield, $y_Z$, for a real system indicates how far the system deviates from \"closed box\". For example, in the presence of outflows, yield would be lower than the true yield. Thus, $y_{\\rm eff}$ is a diagnostics that outflows operate in galaxies. \n",
    "\n",
    "#### Mini-project tasks description:\n",
    "<b>(a)</b> Plot $y_{\\rm eff}$ as a function of $M_\\star$ for model without outflows, for model with outflows but constant mass loading factor $\\eta$, and with mass-dependent outflow metallicity of Muratov et al. (2015) or something close. How does effective yield of galaxies change in these models?\n",
    "\n",
    "<b>(b)</b> Estimate the fraction of metals retained within stars and gas of the galaxy. Plot the retained fraction as a function of galaxy stellar mass and compare with the observed trend discussed in for the model without wind and with the wind <a href=\"http://adsabs.harvard.edu/abs/2014ApJ...786...54P\">Peeples et al. (2014)</a>. How do you interpret the results in terms of the galaxy formation processes?"
   ]
  },
  {
   "cell_type": "markdown",
   "metadata": {
    "deletable": true,
    "editable": true
   },
   "source": [
    "### 4. Metallicity distribution of stars in Milky Way-sized systems.\n",
    "\n",
    "#### Background\n",
    "When people compared simpler chemical evolution models - i.e., without modeling cosmological mass accretion and star formation explicitly - to observed distribution of metallicities of stars in the Milky Way disk, they identified what's known as the *G-dwarf problem* (<a href=\"http://adsabs.harvard.edu/cgi-bin/bib_query?1962AJ.....67..486V\">van den Bergh 1962</a>) - or dearth of low-metallicity stars in the Milky Way disk compared to  the prediction of the \"closed box\" chemical evolution model, in which there are no inflows or outflows of gas. \n",
    "\n",
    "Another way to state the problem is that observed *distribution of metallicities of low-mass stars in the Milky Way disk is too peaked near solar metallicity.* \n",
    "\n",
    "It has now been shown that <a href=\"http://astrobites.org/2012/02/15/and-now-theres-a-problem-with-m-dwarfs-too/\">similar problem exists for K- and M-dwarfs</a>, which are longer lived stars so probe earlier stages of enrichment. The \"problem\" also exist in other galaxies (e.g., <a href=\"http://adsabs.harvard.edu/cgi-bin/bib_query?1996AJ....112..948W\">Worthey et al. 1996</a>). \n",
    "\n",
    "A number of different explanations were developed for this discrepancy. They are related to the fact that real galaxies have inflows and outflows.\n",
    "\n",
    "Given that metallicity is tracked in the model as a function of time, you can calculate the distribution of metallicities for stars formed in a given model. \n",
    "\n",
    "### Mini-project task description\n",
    "\n",
    "Construct and plot distribution of metallicities of stars for a Milky Way sized system ($M_h=10^{12}\\ M_\\odot$ at $z=0$) in the same models as before: no outflows, outflows of constant mass loading factor, and variable mass loading factor with suppression of cooling at small and large masses (i.e., full model that reproduces observed $M_\\star-M_h$ relation). How does distribution of metallicities vary for these models? Describe the overall distribution of metallicities in different models and how it compares to the metallicity of the Milky Way disk stars, which you can find in Fig 2 and Table 2 of <a href=\"http://adsabs.harvard.edu/abs/2012MNRAS.422.1489W\">Woolf & West (2012)</a>, for example (I will provide data in electronic form and script to plot it to you).\n",
    "\n",
    "How does the G-dwarf problem solved in the context of our galaxy formation model? "
   ]
  },
  {
   "cell_type": "markdown",
   "metadata": {
    "collapsed": true,
    "deletable": true,
    "editable": true
   },
   "source": [
    "### 5. Galaxy star formation histories. \n",
    "\n",
    "#### Background\n",
    "In modelling galaxy spectra and colors a critical role is played by the assumption about functional form of the galaxy star formation history (SFH). Historically, people have often used exponentially decaying SFHs. However, recent analyses disfavor such simplistic models and it is generally thought that galaxy SFHs are characterized by the period of rapid rise of star formation rate (SFR), a plateau (broad peak) and, in some cases, SFR decline.\n",
    "\n",
    "In this mini-project you will examine the functional form of the star formation histories predicted by our model. \n",
    "\n",
    "#### Mini-project task description\n",
    "<b>(a)</b> Extract a few star formation histories for galaxies of different representative stellar masses predicted by the galaxy formation model we've constructed, as a function of time for model with no winds and model with the Muratov et al. (2015) winds (full model). Explore how different parameters of the model (SF depletion time and mass loading factor choice) affect the SFHs of galaxies?\n",
    "\n",
    "<b>(b)</b> Compare the star formation histories in the model with the M15 winds for different stellar masses with the functional forms often assumed when star formation histories are modelled in observations (see the ex15 notebook on stellar population synthesis). How well do these analytic models describe the star formation histories described by the model?"
   ]
  },
  {
   "cell_type": "markdown",
   "metadata": {
    "deletable": true,
    "editable": true
   },
   "source": [
    "### 6. Galaxy colors and gas fractions\n",
    "\n",
    "#### Background\n",
    "In the first half of this class we saw that nearby galaxies in the SDSS can be broadly split into red and blue galaxies. The latter have blue colors due to ongoing star formation, which, in turn, is due to the presence of gas in the ISM of these galaxies. In this mini-project we will explore colors of galaxies in our model and their gas fractions. \n",
    "\n",
    "#### Mini-project task description\n",
    "\n",
    "<b>(a)</b> Extract star formation histories of galaxies of different final stellar mass from the full model and model with no winds and no gas accretion suppression at large masses, similarly to description in mini-project 5 above. In addition, for each model extract evolution of metallicity. \n",
    "Using these star formation and metallicity histories and assuming Chabrier IMF compute the evolution of color as a function of time for these galaxies using <tt>EzGal</tt> python code. Examples of how to do stellar population synthesis calculations using <tt>EzGal</tt> are available in the ex15 notebook on the stellar population synthesis. How does $g-r$ color of galaxies of different final $M_\\star$ evolve? What is the final color as a function of $M_\\star$? How does this compare with the distribution of galaxy colors we examined in the SDSS?\n",
    "\n",
    "<b>(b)</b> Plot gas fraction of $M_{\\rm g}/(M_\\star +M_{\\rm g})$ of model galaxies in the full model, model without winds, and model with a constant mass loading factor of winds, as a function of $M_\\star$ and compare with the corresponding trend exhibited by observed galaxies (I will provide data for observed galaxies and code to plot it to you). What does this comparison tell you about the role of outflows in setting gas content of galaxies. "
   ]
  },
  {
   "cell_type": "code",
   "execution_count": null,
   "metadata": {
    "collapsed": true,
    "deletable": true,
    "editable": true
   },
   "outputs": [],
   "source": []
  }
 ],
 "metadata": {
  "kernelspec": {
   "display_name": "Python 3",
   "language": "python",
   "name": "python3"
  },
  "language_info": {
   "codemirror_mode": {
    "name": "ipython",
    "version": 3
   },
   "file_extension": ".py",
   "mimetype": "text/x-python",
   "name": "python",
   "nbconvert_exporter": "python",
   "pygments_lexer": "ipython3",
   "version": "3.6.0"
  }
 },
 "nbformat": 4,
 "nbformat_minor": 0
}
