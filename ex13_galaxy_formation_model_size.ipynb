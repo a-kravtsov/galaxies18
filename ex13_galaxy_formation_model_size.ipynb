{
 "cells": [
  {
   "cell_type": "markdown",
   "metadata": {
    "slideshow": {
     "slide_type": "slide"
    }
   },
   "source": [
    "## Astro 304 \"Galaxies\""
   ]
  },
  {
   "cell_type": "markdown",
   "metadata": {},
   "source": [
    "### A model of galaxy formation"
   ]
  },
  {
   "cell_type": "code",
   "execution_count": 3,
   "metadata": {
    "collapsed": false,
    "slideshow": {
     "slide_type": "skip"
    }
   },
   "outputs": [],
   "source": [
    "# setup notebook for inline figures\n",
    "%matplotlib inline\n",
    "import numpy as np\n",
    "\n",
    "# import pyplot and set some parameters to make plots prettier\n",
    "import matplotlib.pyplot as plt\n",
    "from code.plot_utils import plot_pretty\n",
    "plot_pretty()"
   ]
  },
  {
   "cell_type": "markdown",
   "metadata": {
    "slideshow": {
     "slide_type": "slide"
    }
   },
   "source": [
    "### Galaxy size\n",
    "\n",
    "As baryons cool they lose pressure support and have to condense towards the center of the potential well of the halo. This process would continue until baryons go to $r=0$ if there was no angular momentum. Recall this (see the ex07b notebook for derivation):\n",
    "\n",
    "$$\\ddot{r}=-\\frac{\\partial}{\\partial r}\\left[\\frac{L}{2r^2}+\\Phi(r)\\right]=-\\frac{\\partial\\,\\Phi_{\\rm eff}(r)}{\\partial r}.$$\n",
    "\n",
    "Here $\\Phi_{\\rm eff}$ is the *effective potential*: $\\Phi_{\\rm eff}(r)\\equiv L/(2r^2)+\\Phi(r)$. Physically, it accounts for the centrifugal force due to angular momentum of the particle motion, which counteracts the central force. Below is how it looks like for a star orbiting around the center of the Milky Way. \n",
    "\n",
    "<img src=\"http://astro.uchicago.edu/~andrey/classes/a304/fig/phi_eff.png\" align=\"center\" width=\"500\"></img>\n",
    "\n",
    "We can see that effective potential looks like gravitational potential at large $r$, but increases steeply at small $r$. This steep increase is kind of a \"wall\" for particle set by the centrifugal force. For a given angular momentum $L$, there is a radius where centrifugal potential $L^2/(2r^2)$ matches gravitational potential $\\Phi$. At smaller $r$ the centrifugal potential dominates and prevents motion of particles to smaller $r$. For a particle with $L>0$ there will thus be the smallest $r$ it can reach within a given gravitational potential. \n"
   ]
  },
  {
   "cell_type": "markdown",
   "metadata": {
    "slideshow": {
     "slide_type": "slide"
    }
   },
   "source": [
    "### Angular momentum of baryons and dark matter\n",
    "\n",
    "Both dark matter and baryons acquire angular momentum due to gravitational torques from surrounding large scale structures which spin the collapsing *non-spherical* peak (see <a href=\"http://adsabs.harvard.edu/abs/1969ApJ...155..393P\">Peebles 1969</a>, <a href=\"https://link.springer.com/article/10.1007%2FBF01001625\">Doroshkevich 1970</a>). \n",
    "\n",
    "The amount of angular momentum imparted by this process is small compared to what would be needed to make the entire collapsed halo rotationally supported, but it is not zero. \n",
    "\n",
    "The specific angular momentum of the accreted matter is quantified by the *spin parameter* $\\lambda$ defined as \n",
    "\n",
    "$$j = \\lambda_{\\rm vir}\\,\\sqrt{2} V_{\\rm circ}(R_{\\rm vir})\\,R_{\\rm vir}.$$\n",
    "\n",
    "Thus, $\\lambda=1$ corresponds to the angular momentum for which accreted matter would be settle on a circular orbit right at $R_{\\rm vir}$. \n",
    "\n",
    "Analytic calculations (e.g., <a href=\"http://adsabs.harvard.edu/abs/2002MNRAS.332..325P\">Porciani et al. 2002</a>) and numerical simulations (e.g., <a href=\"http://adsabs.harvard.edu/abs/2002ApJ...581..799V\">Vitvitska et al. 2002</a>) show that during collapse dark matter and baryons acquire angular momentum which corresponds to $\\lambda\\approx 0.04$ and that $\\lambda$ has a log-normal PDF with width $\\sigma_{\\rm ln\\lambda}\\approx 0.55$"
   ]
  },
  {
   "cell_type": "markdown",
   "metadata": {
    "slideshow": {
     "slide_type": "slide"
    }
   },
   "source": [
    "### Angular momentum and galaxy size\n",
    "\n",
    "The angular momentum acquired due to torques from neighboring peaks is sufficient to stop gas by the rotational support (i.e. centrifugal force) at some radius \n",
    "\n",
    "$$r=\\lambda \\sqrt{2}\\,R_{\\rm vir}\\,\\frac{V_{\\rm circ}(R_{\\rm vir})}{V_{\\rm circ}(r)}.$$\n",
    "\n",
    "For typical halos circular velocity profile is almost flat, $V_{\\rm c}\\approx V_{200}\\approx\\rm const$ and constant is only weakly dependent on halo mass because halo concentration depends on mass weakly.\n",
    "So, approximately \n",
    "\n",
    "$$r=\\eta \\lambda \\sqrt{2}\\, R_{vir}$$ \n",
    "\n",
    "where $\\eta$ is of order unity.\n",
    "\n",
    "This was one of the key ideas in the early models of disk galaxy formation by <a href=\"http://adsabs.harvard.edu/abs/1980MNRAS.193..189F\">Fall & Efstathiou 1980</a> and by <a href=\"http://adsabs.harvard.edu/abs/1987ApJ...318...15R\">Ryden & Gunn 1987.</a>\n",
    "\n"
   ]
  },
  {
   "cell_type": "markdown",
   "metadata": {
    "slideshow": {
     "slide_type": "slide"
    }
   },
   "source": [
    "### Angular momentum and galaxy size (cont'd)\n",
    "\n",
    "Detailed calculations of rotationally supported disk size for baryons condensing in gravitational potential corresponding to the NFW profile is predicted to be (<a href=\"http://mnras.oxfordjournals.org/content/295/2/319\">Mo, Mao & White 1998</a>; hereafter MMW98):\n",
    "\n",
    "$$\n",
    "r_{50}=1.678R_{\\rm d}=1.187\\,\\frac{j_{\\rm d}}{m_{\\rm d}}\\,f_c^{-1/2}\\,f_R\\lambda\\, R_{200},\n",
    "$$\n",
    "\n",
    "where $r_{50}$ is disk half mass radius, $R_d$ is disk exponential scale length, $R_{200}$ is the radius enclosing density contrast of 200 relative to the critical density at the redshift of interest at the redshift of observation, $c=c_{200}$ is concentration of halo profile (see above), $j_d$ and $m_d$ are fractions of baryon angular momentum and mass  within halo in the central disk (e.g., if disk mass is $M_{\\rm d}=5\\times 10^{10}\\ M_\\odot$ and $M_h=10^{12}\\ M_\\odot$, $m_{\\rm d}=5\\times 10^{10}/10^{12}=0.05$), $f_c\\approx 0.667+(c_{200c}/21.5)^{0.7}$ is a function of halo concentration (see eq. 23 in MMW98 for the exact expression), and $f_R$ is a function that can be used to take into account baryonic contraction of halo in response to halo formation  (see S 2.3 of MMW98 and approximate formula for this quantity in their eq. 32). "
   ]
  },
  {
   "cell_type": "markdown",
   "metadata": {
    "slideshow": {
     "slide_type": "slide"
    }
   },
   "source": [
    "### Angular momentum and galaxy size (cont'd)\n",
    "\n",
    "Assuming $j_d/m_d=1$, $m_d=0.05$, and typical spin $\\bar{\\lambda}=0.045$ and halo concentration of $c_{200}=10$, gives $f_{\\rm c}\\approx 1.25$ and $f_{\\rm R}\\approx 0.66$, and thus *linear relation between galaxy size and halo virial radius*: $r_{1/2}=0.032 R_{200c}$. \n",
    "\n",
    "The scatter in size at a fixed $R_{200c}$ in such model is mostly due to scatter in $\\lambda$ -- the spin of parent halo. As discussed above, $\\lambda$ has log-normal pdf with the width of $\\sigma_{\\ln\\lambda}\\approx 0.55$ (e.g., <a href=\"http://adsabs.harvard.edu/abs/2002ApJ...581..799V\">Vitvitska et al 2002</a>). \n",
    "\n",
    "How well does this work? Here is a plot showing half-light radii of the SDSS galaxies as a function of $R_{200}$ of their halos, where $R_{200}$ where obtained from $M_{200}$, which, in turn, is estimated from $M_\\star$ using the $M_\\star-M_{200}$ derived from abundance matching. \n",
    "\n",
    "<img src=\"http://astro.uchicago.edu/~andrey/classes/a304/fig/r50_R200c_SDSS_Meert.png\" align=\"center\" width=\"600\"></img>\n"
   ]
  }
 ],
 "metadata": {
  "celltoolbar": "Slideshow",
  "kernelspec": {
   "display_name": "Python 2",
   "language": "python",
   "name": "python2"
  },
  "language_info": {
   "codemirror_mode": {
    "name": "ipython",
    "version": 2
   },
   "file_extension": ".py",
   "mimetype": "text/x-python",
   "name": "python",
   "nbconvert_exporter": "python",
   "pygments_lexer": "ipython2",
   "version": "2.7.10"
  }
 },
 "nbformat": 4,
 "nbformat_minor": 0
}
